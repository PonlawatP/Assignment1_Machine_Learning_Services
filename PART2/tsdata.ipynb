{
 "cells": [
  {
   "cell_type": "code",
   "execution_count": 1,
   "metadata": {},
   "outputs": [],
   "source": [
    "import pandas as pd\n",
    "import numpy as np\n",
    "import os\n",
    "from PIL import Image\n",
    "import cv2\n",
    "import os\n",
    "import matplotlib.pyplot as plt\n",
    "import requests\n",
    "import base64\n",
    "import json\n",
    "import csv"
   ]
  },
  {
   "cell_type": "code",
   "execution_count": 2,
   "metadata": {},
   "outputs": [],
   "source": [
    "train_dir = r'D:\\AI\\PART2\\Cars Dataset\\train'\n",
    "test_dir = r'D:\\AI\\PART2\\Cars Dataset\\test'\n",
    "Dataset = r'D:\\AI\\PART2\\Cars Dataset'\n",
    "\n"
   ]
  },
  {
   "cell_type": "code",
   "execution_count": 3,
   "metadata": {},
   "outputs": [
    {
     "name": "stdout",
     "output_type": "stream",
     "text": [
      "รายชื่อไฟล์ในโฟลเดอร์ test: ['test', 'train']\n",
      "รายชื่อไฟล์ในโฟลเดอร์ test: ['Audi', 'Hyundai Creta', 'Mahindra Scorpio', 'Rolls Royce', 'Swift', 'Tata Safari', 'Toyota Innova']\n",
      "รายชื่อไฟล์ในโฟลเดอร์ train: ['Audi', 'Hyundai Creta', 'Mahindra Scorpio', 'Rolls Royce', 'Swift', 'Tata Safari', 'Toyota Innova']\n"
     ]
    }
   ],
   "source": [
    "data_set = os.listdir(Dataset)\n",
    "print(\"รายชื่อไฟล์ในโฟลเดอร์ test:\", data_set)\n",
    "\n",
    "# แสดงรายชื่อไฟล์ในโฟลเดอร์ test\n",
    "test_files = os.listdir(test_dir)\n",
    "print(\"รายชื่อไฟล์ในโฟลเดอร์ test:\", test_files)\n",
    "\n",
    "# แสดงรายชื่อไฟล์ในโฟลเดอร์ train\n",
    "train_files = os.listdir(train_dir)\n",
    "print(\"รายชื่อไฟล์ในโฟลเดอร์ train:\", train_files)\n"
   ]
  },
  {
   "cell_type": "code",
   "execution_count": 4,
   "metadata": {},
   "outputs": [],
   "source": [
    "def setNumber_brand(b):\n",
    "    if b=='Audi':\n",
    "        return 1\n",
    "    elif b=='Hyundai Creta':\n",
    "        return 2\n",
    "    elif b=='Mahindra Scorpio':\n",
    "        return 3\n",
    "    elif b=='Rolls Royce':\n",
    "        return 4\n",
    "    elif b=='Swift':\n",
    "        return 5\n",
    "    elif b=='Tata Safari':\n",
    "        return 6\n",
    "    elif b=='Toyota Innova':\n",
    "        return 7"
   ]
  },
  {
   "cell_type": "code",
   "execution_count": 5,
   "metadata": {},
   "outputs": [],
   "source": [
    "def numeric_data(hog_data):        \n",
    "    ss = hog_data.strip('[,]')  \n",
    "    sss = ss.split(', ') \n",
    "    numeric_data = [float(value) for value in sss]\n",
    "    return numeric_data"
   ]
  },
  {
   "cell_type": "code",
   "execution_count": 6,
   "metadata": {},
   "outputs": [],
   "source": [
    "def GETHOG(part_dir):\n",
    "    \n",
    "    listData = [] # List to store training data \n",
    "    folder_path = part_dir  # Make sure to set test_dir to the appropriate path\n",
    "    if not os.path.exists(folder_path):\n",
    "        print(\"โฟลเดอร์ไม่มีอยู่\")\n",
    "        exit()\n",
    "    Amount = 0\n",
    "    for filebrand in os.listdir(folder_path):\n",
    "        count = 0\n",
    "      \n",
    "        file_path = os.path.join(folder_path, filebrand)\n",
    "        for image_filename in os.listdir(file_path):\n",
    "            image_path = os.path.join(file_path, image_filename)\n",
    "\n",
    "            with open(image_path, \"rb\") as image_file:\n",
    "                image_data = image_file.read()\n",
    "                base64_encoded = base64.b64encode(image_data).decode(\"utf-8\")\n",
    "\n",
    "                url = r'http://localhost:8080/api/gethog'\n",
    "                data64 = {\n",
    "                    \"img\": 'data:image/' + str(os.path.splitext(image_path)[1]) + ';base64,' + base64_encoded\n",
    "                }\n",
    "\n",
    "                headers = {\"Content-Type\": \"application/json\"}\n",
    "                response = requests.get(url, json=data64, headers=headers)\n",
    "                \n",
    "                if response.status_code == 200:\n",
    "                    count = count + 1\n",
    "                    data = {\n",
    "                        \"image\": os.path.basename(image_path),\n",
    "                        \"HOG\":  response.json()[\"Hog\"],\n",
    "                        \"Class\": setNumber_brand(filebrand)\n",
    "                    }\n",
    "                    \n",
    "                    listData.append(data) \n",
    "                else:\n",
    "                    print(\"Error:\", response.status_code)\n",
    "        print(str(setNumber_brand(filebrand))+'  '+filebrand+\"  \"+str(count))\n",
    "        Amount = Amount + count\n",
    "    print(f'Amount {Amount}')\n",
    "    return listData"
   ]
  },
  {
   "cell_type": "code",
   "execution_count": 7,
   "metadata": {},
   "outputs": [],
   "source": [
    "def loadCSV(namesFile, listDatas):\n",
    "    csv_filename = namesFile + \".csv\"\n",
    "    with open(csv_filename, \"w\", newline=\"\") as csv_file:\n",
    "        fieldnames = [\"image\", \"HOG\", \"Class\"]\n",
    "        writer = csv.DictWriter(csv_file, fieldnames=fieldnames)\n",
    "        writer.writeheader()\n",
    "        for data in listDatas:\n",
    "            # Convert the \"HOG\" data from a list of numbers to a string\n",
    "            hog_data = ', '.join(str(number) for number in data[\"HOG\"])\n",
    "            # Write the data to the CSV file\n",
    "            writer.writerow({\"image\": data[\"image\"], \"HOG\": hog_data, \"Class\": data[\"Class\"]})"
   ]
  },
  {
   "cell_type": "code",
   "execution_count": 10,
   "metadata": {},
   "outputs": [
    {
     "name": "stdout",
     "output_type": "stream",
     "text": [
      "1  Audi  814\n",
      "2  Hyundai Creta  271\n",
      "3  Mahindra Scorpio  316\n",
      "4  Rolls Royce  311\n",
      "5  Swift  424\n",
      "6  Tata Safari  441\n",
      "7  Toyota Innova  775\n",
      "Amount 3352\n"
     ]
    }
   ],
   "source": [
    "list_train = GETHOG(train_dir)"
   ]
  },
  {
   "cell_type": "code",
   "execution_count": 11,
   "metadata": {},
   "outputs": [
    {
     "name": "stdout",
     "output_type": "stream",
     "text": [
      "1  Audi  199\n",
      "2  Hyundai Creta  67\n",
      "3  Mahindra Scorpio  75\n",
      "4  Rolls Royce  74\n",
      "5  Swift  102\n",
      "6  Tata Safari  106\n",
      "7  Toyota Innova  190\n",
      "Amount 813\n"
     ]
    }
   ],
   "source": [
    "list_test = GETHOG(test_dir)"
   ]
  },
  {
   "cell_type": "code",
   "execution_count": 14,
   "metadata": {},
   "outputs": [],
   "source": [
    "loadCSV('train_data',list_train)\n",
    "loadCSV('test_data',list_test)"
   ]
  },
  {
   "cell_type": "code",
   "execution_count": 15,
   "metadata": {},
   "outputs": [],
   "source": [
    "data_path_train = f'D:\\AI\\PART2/train_data.csv'\n",
    "data_path_test = f'D:\\AI\\PART2/test_data.csv'"
   ]
  },
  {
   "cell_type": "code",
   "execution_count": 49,
   "metadata": {},
   "outputs": [
    {
     "data": {
      "text/plain": [
       "(3352, 3)"
      ]
     },
     "execution_count": 49,
     "metadata": {},
     "output_type": "execute_result"
    }
   ],
   "source": [
    "data_train = pd.read_csv(data_path_train)\n",
    "# data_train.head()\n",
    "data_train.shape"
   ]
  },
  {
   "cell_type": "code",
   "execution_count": 17,
   "metadata": {},
   "outputs": [
    {
     "data": {
      "text/html": [
       "<div>\n",
       "<style scoped>\n",
       "    .dataframe tbody tr th:only-of-type {\n",
       "        vertical-align: middle;\n",
       "    }\n",
       "\n",
       "    .dataframe tbody tr th {\n",
       "        vertical-align: top;\n",
       "    }\n",
       "\n",
       "    .dataframe thead th {\n",
       "        text-align: right;\n",
       "    }\n",
       "</style>\n",
       "<table border=\"1\" class=\"dataframe\">\n",
       "  <thead>\n",
       "    <tr style=\"text-align: right;\">\n",
       "      <th></th>\n",
       "      <th>image</th>\n",
       "      <th>HOG</th>\n",
       "      <th>Class</th>\n",
       "    </tr>\n",
       "  </thead>\n",
       "  <tbody>\n",
       "    <tr>\n",
       "      <th>0</th>\n",
       "      <td>1000.jpg</td>\n",
       "      <td>0.011094658635556698, 0.012741324491798878, 0....</td>\n",
       "      <td>1</td>\n",
       "    </tr>\n",
       "    <tr>\n",
       "      <th>1</th>\n",
       "      <td>1003.jpg</td>\n",
       "      <td>0.04191439598798752, 0.06864418834447861, 0.09...</td>\n",
       "      <td>1</td>\n",
       "    </tr>\n",
       "    <tr>\n",
       "      <th>2</th>\n",
       "      <td>1008.jpg</td>\n",
       "      <td>0.08801346272230148, 0.021987106651067734, 0.0...</td>\n",
       "      <td>1</td>\n",
       "    </tr>\n",
       "    <tr>\n",
       "      <th>3</th>\n",
       "      <td>1020.jpg</td>\n",
       "      <td>0.0021135981660336256, 0.05653822049498558, 0....</td>\n",
       "      <td>1</td>\n",
       "    </tr>\n",
       "    <tr>\n",
       "      <th>4</th>\n",
       "      <td>1022.jpg</td>\n",
       "      <td>0.16168105602264404, 0.13524803519248962, 0.15...</td>\n",
       "      <td>1</td>\n",
       "    </tr>\n",
       "  </tbody>\n",
       "</table>\n",
       "</div>"
      ],
      "text/plain": [
       "      image                                                HOG  Class\n",
       "0  1000.jpg  0.011094658635556698, 0.012741324491798878, 0....      1\n",
       "1  1003.jpg  0.04191439598798752, 0.06864418834447861, 0.09...      1\n",
       "2  1008.jpg  0.08801346272230148, 0.021987106651067734, 0.0...      1\n",
       "3  1020.jpg  0.0021135981660336256, 0.05653822049498558, 0....      1\n",
       "4  1022.jpg  0.16168105602264404, 0.13524803519248962, 0.15...      1"
      ]
     },
     "execution_count": 17,
     "metadata": {},
     "output_type": "execute_result"
    }
   ],
   "source": [
    "data_test = pd.read_csv(data_path_test)\n",
    "data_test.head()"
   ]
  },
  {
   "cell_type": "markdown",
   "metadata": {},
   "source": [
    "***sklearn***"
   ]
  },
  {
   "cell_type": "code",
   "execution_count": 18,
   "metadata": {},
   "outputs": [],
   "source": [
    "from sklearn.feature_extraction.text import CountVectorizer\n",
    "from sklearn.preprocessing import LabelEncoder\n",
    "from sklearn.model_selection import train_test_split\n",
    "from sklearn.tree import DecisionTreeClassifier\n",
    "from sklearn import metrics\n",
    "from sklearn import tree"
   ]
  },
  {
   "cell_type": "code",
   "execution_count": 22,
   "metadata": {},
   "outputs": [
    {
     "name": "stdout",
     "output_type": "stream",
     "text": [
      "[1 2 3 4 5 6 7]\n"
     ]
    }
   ],
   "source": [
    "X_train = data_train['HOG']\n",
    "Y_train = data_train['Class']\n",
    "print(Y_train.unique())"
   ]
  },
  {
   "cell_type": "code",
   "execution_count": 24,
   "metadata": {},
   "outputs": [
    {
     "name": "stdout",
     "output_type": "stream",
     "text": [
      "[1 2 3 4 5 6 7]\n"
     ]
    }
   ],
   "source": [
    "X_test = data_test['HOG']\n",
    "Y_test = data_test['Class']\n",
    "print(Y_test.unique())"
   ]
  },
  {
   "cell_type": "code",
   "execution_count": 25,
   "metadata": {},
   "outputs": [],
   "source": [
    "def convert_hog_string_to_vector(hog_string):\n",
    "    hog_list = eval(hog_string)\n",
    "    hog_vector = np.array(hog_list)\n",
    "    return hog_vector"
   ]
  },
  {
   "cell_type": "code",
   "execution_count": 26,
   "metadata": {},
   "outputs": [],
   "source": [
    "X_train_numeric = np.array([convert_hog_string_to_vector(hog_string) for hog_string in X_train])\n",
    "X_test_numeric = np.array([convert_hog_string_to_vector(hog_string) for hog_string in X_test])"
   ]
  },
  {
   "cell_type": "code",
   "execution_count": 27,
   "metadata": {},
   "outputs": [],
   "source": [
    "clf = DecisionTreeClassifier()\n",
    "clf = clf.fit(X_train_numeric,Y_train)"
   ]
  },
  {
   "cell_type": "code",
   "execution_count": 28,
   "metadata": {},
   "outputs": [
    {
     "name": "stdout",
     "output_type": "stream",
     "text": [
      "46.86346863468634\n",
      "[[ 74  20  18  22  15  19  31]\n",
      " [ 10  36   3   5   2   5   6]\n",
      " [ 10   6  27   4   5   5  18]\n",
      " [ 33   5   5   8   5  10   8]\n",
      " [ 16   8   4   8  44   5  17]\n",
      " [  9   8   6   4   6  69   4]\n",
      " [ 19  11   7   9   9  12 123]]\n"
     ]
    }
   ],
   "source": [
    "from sklearn.metrics import confusion_matrix  \n",
    "from sklearn.metrics import  accuracy_score   \n",
    "y_model_prediction = clf.predict(X_test_numeric)\n",
    "\n",
    "print(accuracy_score(Y_test,y_model_prediction)*100)\n",
    "print(confusion_matrix(Y_test,y_model_prediction))"
   ]
  },
  {
   "cell_type": "code",
   "execution_count": 42,
   "metadata": {},
   "outputs": [
    {
     "name": "stdout",
     "output_type": "stream",
     "text": [
      "Accuracy: 0.46863468634686345\n"
     ]
    }
   ],
   "source": [
    "y_pred = clf.predict(X_test_numeric)\n",
    "print(\"Accuracy:\",metrics.accuracy_score(Y_test, y_pred))"
   ]
  },
  {
   "cell_type": "code",
   "execution_count": 35,
   "metadata": {},
   "outputs": [],
   "source": [
    "import pickle"
   ]
  },
  {
   "cell_type": "code",
   "execution_count": 36,
   "metadata": {},
   "outputs": [],
   "source": [
    "path_model =f'D:\\AI\\PART2\\imageCAR_model.pkl'\n",
    "pickle.dump(clf, open(path_model,'wb'))"
   ]
  },
  {
   "cell_type": "code",
   "execution_count": 29,
   "metadata": {},
   "outputs": [],
   "source": [
    "import joblib"
   ]
  },
  {
   "cell_type": "code",
   "execution_count": 30,
   "metadata": {},
   "outputs": [
    {
     "data": {
      "text/plain": [
       "['image_model.pkl']"
      ]
     },
     "execution_count": 30,
     "metadata": {},
     "output_type": "execute_result"
    }
   ],
   "source": [
    "model_filename = 'image_model.pkl'\n",
    "joblib.dump(clf, model_filename)"
   ]
  }
 ],
 "metadata": {
  "kernelspec": {
   "display_name": "Python 3",
   "language": "python",
   "name": "python3"
  },
  "language_info": {
   "codemirror_mode": {
    "name": "ipython",
    "version": 3
   },
   "file_extension": ".py",
   "mimetype": "text/x-python",
   "name": "python",
   "nbconvert_exporter": "python",
   "pygments_lexer": "ipython3",
   "version": "3.11.4"
  },
  "orig_nbformat": 4
 },
 "nbformat": 4,
 "nbformat_minor": 2
}
